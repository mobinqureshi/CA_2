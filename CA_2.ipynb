{
 "cells": [
  {
   "cell_type": "code",
   "execution_count": null,
   "id": "527c63a0",
   "metadata": {},
   "outputs": [],
   "source": [
    "# Regular EDA and plotting libraries\n",
    "import numpy as np \n",
    "import pandas as pd \n",
    "import matplotlib.pyplot as plt\n",
    "import seaborn as sns \n",
    "import glob\n",
    "import os\n",
    "import scipy.stats as stats\n",
    "from statsmodels.tsa.arima.model import ARIMA\n",
    "\n",
    "# We want our plots to appear in the notebook\n",
    "%matplotlib inline \n",
    "\n",
    "## Models\n",
    "from sklearn.linear_model import LogisticRegression\n",
    "from sklearn.neighbors import KNeighborsClassifier\n",
    "from sklearn.ensemble import RandomForestClassifier\n",
    "\n",
    "## Model evaluators\n",
    "from sklearn.model_selection import train_test_split, cross_val_score\n",
    "from sklearn.model_selection import RandomizedSearchCV, GridSearchCV\n",
    "from sklearn.metrics import confusion_matrix, classification_report\n",
    "from sklearn.metrics import precision_score, recall_score, f1_score"
   ]
  },
  {
   "cell_type": "code",
   "execution_count": null,
   "id": "495d61cf",
   "metadata": {},
   "outputs": [],
   "source": [
    "# Set the directory containing the datasets\n",
    "data_dir = 'C:/Users/OMBATI/Desktop/python codes/project money/social_housing_construction_status_report_2020'\n",
    "\n",
    "# Get a list of all the CSV files in the directory\n",
    "csv_files = [file for file in os.listdir(data_dir) if file.endswith('.csv')]\n",
    "\n",
    "# Initialize an empty list to store the dataframes\n",
    "dfs = []\n",
    "\n",
    "# Loop through each CSV file and read it into a dataframe\n",
    "for file in csv_files:\n",
    "    filepath = os.path.join(data_dir, file)\n",
    "    df = pd.read_csv(filepath)\n",
    "    dfs.append(df)\n",
    "\n",
    "# Concatenate all the dataframes into a single dataframe\n",
    "social_housing = pd.concat(dfs, ignore_index=True)\n",
    "\n",
    "# Save the DataFrame to a CSV file\n",
    "df.to_csv('social_housing5.csv', index=False)\n",
    "\n",
    "# Print the firts few rows of the combined dataframe\n",
    "social_housing.head()"
   ]
  },
  {
   "cell_type": "code",
   "execution_count": null,
   "id": "6df5b317",
   "metadata": {},
   "outputs": [],
   "source": [
    "# Set the path to the directory containing the dataset\n",
    "data_dir = 'C:/Users/OMBATI/Desktop/python codes/project money'\n",
    "\n",
    "# Set the filename of the dataset\n",
    "filename = 'national_house_construction_cost_index_0.csv'\n",
    "\n",
    "# Combine the directory and filename to get the full filepath\n",
    "filepath = os.path.join(data_dir, filename)\n",
    "\n",
    "# Read the dataset into a pandas DataFrame\n",
    "national_house = pd.read_csv(filepath)\n",
    "\n",
    "# Print the first few rows of the DataFrame to check that it loaded correctly\n",
    "national_house.T.head()"
   ]
  },
  {
   "cell_type": "code",
   "execution_count": null,
   "id": "10d00884",
   "metadata": {},
   "outputs": [],
   "source": []
  },
  {
   "cell_type": "code",
   "execution_count": null,
   "id": "445f47a8",
   "metadata": {},
   "outputs": [],
   "source": []
  },
  {
   "cell_type": "code",
   "execution_count": null,
   "id": "9d1ac660",
   "metadata": {},
   "outputs": [],
   "source": []
  },
  {
   "cell_type": "code",
   "execution_count": null,
   "id": "fdfa79b1",
   "metadata": {},
   "outputs": [],
   "source": []
  },
  {
   "cell_type": "code",
   "execution_count": null,
   "id": "f203434c",
   "metadata": {},
   "outputs": [],
   "source": []
  },
  {
   "cell_type": "code",
   "execution_count": null,
   "id": "a548515b",
   "metadata": {},
   "outputs": [],
   "source": []
  },
  {
   "cell_type": "code",
   "execution_count": null,
   "id": "e9a8ab7a",
   "metadata": {},
   "outputs": [],
   "source": []
  },
  {
   "cell_type": "code",
   "execution_count": null,
   "id": "236f66d0",
   "metadata": {},
   "outputs": [],
   "source": []
  },
  {
   "cell_type": "code",
   "execution_count": null,
   "id": "1b6188d2",
   "metadata": {},
   "outputs": [],
   "source": []
  },
  {
   "cell_type": "code",
   "execution_count": null,
   "id": "c1472fd2",
   "metadata": {},
   "outputs": [],
   "source": []
  }
 ],
 "metadata": {
  "kernelspec": {
   "display_name": "Python 3 (ipykernel)",
   "language": "python",
   "name": "python3"
  },
  "language_info": {
   "codemirror_mode": {
    "name": "ipython",
    "version": 3
   },
   "file_extension": ".py",
   "mimetype": "text/x-python",
   "name": "python",
   "nbconvert_exporter": "python",
   "pygments_lexer": "ipython3",
   "version": "3.9.16"
  }
 },
 "nbformat": 4,
 "nbformat_minor": 5
}
